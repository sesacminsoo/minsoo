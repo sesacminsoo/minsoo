{
 "cells": [
  {
   "cell_type": "code",
   "execution_count": 5,
   "id": "9183d4f5-f32c-491d-82d5-5954210658a7",
   "metadata": {},
   "outputs": [],
   "source": [
    "from models import Comment, Post"
   ]
  },
  {
   "attachments": {},
   "cell_type": "markdown",
   "id": "c3e9e8dc-3a1a-4ff3-98a4-4a985b081e6f",
   "metadata": {},
   "source": [
    "# Data Create"
   ]
  },
  {
   "cell_type": "code",
   "execution_count": 6,
   "id": "6f03aa32-ef2d-4daf-ae47-734716db539e",
   "metadata": {},
   "outputs": [],
   "source": [
    "from datetime import datetime"
   ]
  },
  {
   "cell_type": "code",
   "execution_count": 7,
   "id": "6be09fee-fdc7-4416-b2e5-8ec4b62ae5cf",
   "metadata": {},
   "outputs": [
    {
     "data": {
      "text/plain": [
       "datetime.datetime(2023, 11, 28, 1, 11, 8, 247520)"
      ]
     },
     "execution_count": 7,
     "metadata": {},
     "output_type": "execute_result"
    }
   ],
   "source": [
    "datetime.now()"
   ]
  },
  {
   "attachments": {},
   "cell_type": "markdown",
   "id": "01c0b14a-24ca-4de2-8088-50aa5e44bfe3",
   "metadata": {},
   "source": [
    "## Post 객체 생성"
   ]
  },
  {
   "cell_type": "code",
   "execution_count": 21,
   "id": "177ae1aa-2511-4531-9c0d-34ec0b3f6322",
   "metadata": {},
   "outputs": [],
   "source": [
    "data = {\n",
    "    \"writer\" : \"sumin\",\n",
    "    \"subject\" : \"test\",\n",
    "    \"content\" : \"안녕하세요. 게시판 테스트입니다.\",\n",
    "    \"create_date\" :  datetime.now()\n",
    "}\n",
    "p = Post(writer = data['writer'], subject = data['subject'], \n",
    "         content = data['content'], create_date = data['create_date'])"
   ]
  },
  {
   "attachments": {},
   "cell_type": "markdown",
   "id": "a79ba14d-c148-41d1-9b1b-55ea400caf31",
   "metadata": {},
   "source": [
    "## Post 객체 DB에 Insert"
   ]
  },
  {
   "cell_type": "code",
   "execution_count": 22,
   "id": "4151ae0b-9a15-4f29-9b46-4a9e4a91a17f",
   "metadata": {},
   "outputs": [],
   "source": [
    "from database import SessionLocal\n",
    "db = SessionLocal()\n",
    "db.add(p)\n",
    "db.commit()"
   ]
  },
  {
   "attachments": {},
   "cell_type": "markdown",
   "id": "0b41bfa0-c60a-486e-9c1d-1e3237ad10e8",
   "metadata": {},
   "source": [
    "# Data Read"
   ]
  },
  {
   "attachments": {},
   "cell_type": "markdown",
   "id": "1a24b5e6-65ed-40c0-ac22-5f46986182c3",
   "metadata": {},
   "source": [
    "## 내가 원하는 조건에 따라 Data 조회"
   ]
  },
  {
   "attachments": {},
   "cell_type": "markdown",
   "id": "df79cb82-5688-418f-9b52-19e73c21be82",
   "metadata": {},
   "source": [
    "### ID값으로 조회"
   ]
  },
  {
   "cell_type": "code",
   "execution_count": 14,
   "id": "f981fbde-cfe7-4a52-a9bb-58287b5bca29",
   "metadata": {},
   "outputs": [
    {
     "data": {
      "text/plain": [
       "[<models.Post at 0x1095c9a10>]"
      ]
     },
     "execution_count": 14,
     "metadata": {},
     "output_type": "execute_result"
    }
   ],
   "source": [
    "db.query(Post).filter(Post.post_id == 1).all()"
   ]
  },
  {
   "attachments": {},
   "cell_type": "markdown",
   "id": "beb96710-72a7-4042-a59c-79a48edc9667",
   "metadata": {},
   "source": [
    "### 제목으로 조회\n",
    "- like는 문자열의 패턴을 검색하는 함수\n",
    "- 원하는 문자열 앞에 %를 붙이면, %뒤에 오는 문자열 로 시작하는 문자열을 찾으라는 의미 ex : %Hello -> Hello로 시작하는 문자열 모두 검색\n",
    "- 원하는 문자열 \u001d\n",
    "에 %를 붙이면, %\u001d\n",
    "앞에 오는 문자열 로 끝나는 문자열을 찾으라는 의미 ex : Hello% -> Hello로 끝나는 문자열 모두 검색"
   ]
  },
  {
   "cell_type": "code",
   "execution_count": 23,
   "id": "3b46d512-c140-4fd8-94e3-d5ec2eadf13b",
   "metadata": {},
   "outputs": [
    {
     "data": {
      "text/plain": [
       "[<models.Post at 0x1089e8590>,\n",
       " <models.Post at 0x1089e8750>,\n",
       " <models.Post at 0x1089e87d0>,\n",
       " <models.Post at 0x1089e8850>,\n",
       " <models.Post at 0x1089dadd0>]"
      ]
     },
     "execution_count": 23,
     "metadata": {},
     "output_type": "execute_result"
    }
   ],
   "source": [
    "db.query(Post).filter(Post.subject.like(\"%te%\")).all()"
   ]
  },
  {
   "cell_type": "code",
   "execution_count": 24,
   "id": "26ce9f20-5858-445b-b1ca-a261a0dc6a2b",
   "metadata": {},
   "outputs": [],
   "source": [
    "my_data = db.query(Post).filter(Post.subject.like(\"%te%\")).all()[0]"
   ]
  },
  {
   "cell_type": "code",
   "execution_count": 22,
   "id": "51959ffa-c01f-4ff6-85d3-bb4329c6128f",
   "metadata": {},
   "outputs": [
    {
     "data": {
      "text/plain": [
       "(1, 'sumin', 'test', '안녕하세요. 게시판 테스트입니다.')"
      ]
     },
     "execution_count": 22,
     "metadata": {},
     "output_type": "execute_result"
    }
   ],
   "source": [
    "my_data.post_id, my_data.writer, my_data.subject, my_data.content"
   ]
  },
  {
   "attachments": {},
   "cell_type": "markdown",
   "id": "ab38f700-692d-4ba1-88c7-815fe187bd66",
   "metadata": {},
   "source": [
    "# Data Update"
   ]
  },
  {
   "attachments": {},
   "cell_type": "markdown",
   "id": "bcf10eda-3609-4988-bc24-60bf02a87783",
   "metadata": {},
   "source": [
    "## DB session 객체 생성"
   ]
  },
  {
   "cell_type": "code",
   "execution_count": 37,
   "id": "adaa35e8-7dab-48b1-be29-3c90fd3b1573",
   "metadata": {},
   "outputs": [],
   "source": [
    "from database import SessionLocal\n",
    "db = SessionLocal()"
   ]
  },
  {
   "attachments": {},
   "cell_type": "markdown",
   "id": "12981972-9b76-4bb1-b61c-78b7ff2e3941",
   "metadata": {},
   "source": [
    "## 원하는 Data Select"
   ]
  },
  {
   "cell_type": "code",
   "execution_count": 38,
   "id": "7675bb6b-7f23-4a26-a8f1-c25985285526",
   "metadata": {},
   "outputs": [],
   "source": [
    "my_data = db.query(Post).filter(Post.subject.like(\"%te%\")).all()[0]"
   ]
  },
  {
   "attachments": {},
   "cell_type": "markdown",
   "id": "3199da78-ad4b-4dd4-a152-e7671b28f16b",
   "metadata": {},
   "source": [
    "## Data에 원하는 내용 Update"
   ]
  },
  {
   "cell_type": "code",
   "execution_count": 39,
   "id": "11230b23-1c84-450f-9988-43dcd5325542",
   "metadata": {},
   "outputs": [],
   "source": [
    "my_data.content = \"안녕하세요. 파이썬을 이용한 SQL ORM Test입니다.\""
   ]
  },
  {
   "attachments": {},
   "cell_type": "markdown",
   "id": "25f73c7d-5d8f-443f-8c8d-c0dc1f218579",
   "metadata": {},
   "source": [
    "## Data Commit"
   ]
  },
  {
   "cell_type": "code",
   "execution_count": 40,
   "id": "cb5299b0-0fa6-470f-9c8a-340f2779b432",
   "metadata": {},
   "outputs": [],
   "source": [
    "db.commit()"
   ]
  },
  {
   "attachments": {},
   "cell_type": "markdown",
   "id": "14d66e61-0853-4d3a-9122-6d3a25312101",
   "metadata": {},
   "source": [
    "# Data Delete"
   ]
  },
  {
   "attachments": {},
   "cell_type": "markdown",
   "id": "633147b5-480c-420a-9623-7a865d81a371",
   "metadata": {},
   "source": [
    "## DB Session 객체 생성"
   ]
  },
  {
   "cell_type": "code",
   "execution_count": 41,
   "id": "bdab8a1a-5d70-4757-8b81-d450aaabedde",
   "metadata": {},
   "outputs": [],
   "source": [
    "from database import SessionLocal\n",
    "db = SessionLocal()"
   ]
  },
  {
   "attachments": {},
   "cell_type": "markdown",
   "id": "c83dcf9d-b299-43e0-989b-b4bf2800d3f8",
   "metadata": {},
   "source": [
    "## Data Select"
   ]
  },
  {
   "cell_type": "code",
   "execution_count": 42,
   "id": "cb0a6e2f-834e-4d78-8662-edca6c4bc10f",
   "metadata": {},
   "outputs": [],
   "source": [
    "my_data = db.query(Post).filter(Post.subject.like(\"%te%\")).all()[0]"
   ]
  },
  {
   "attachments": {},
   "cell_type": "markdown",
   "id": "a21dbb6f-39be-4333-bb04-fa2f7ae3e357",
   "metadata": {},
   "source": [
    "## Data Delete"
   ]
  },
  {
   "cell_type": "code",
   "execution_count": 43,
   "id": "745a2fe2-7b98-49b9-95b2-564b2b5fb276",
   "metadata": {},
   "outputs": [],
   "source": [
    "db.delete(my_data)"
   ]
  },
  {
   "attachments": {},
   "cell_type": "markdown",
   "id": "03aa73ad-9696-4651-97a9-d1e8a5f2b40e",
   "metadata": {},
   "source": [
    "## DB Commit"
   ]
  },
  {
   "cell_type": "code",
   "execution_count": 44,
   "id": "4132c141-f8f6-4213-8f0d-094634d9eaa8",
   "metadata": {},
   "outputs": [],
   "source": [
    "db.commit()"
   ]
  },
  {
   "attachments": {},
   "cell_type": "markdown",
   "id": "9da63b0c",
   "metadata": {},
   "source": [
    "# DB Connection with PostgreSQL"
   ]
  },
  {
   "cell_type": "code",
   "execution_count": 1,
   "id": "bb4bab44",
   "metadata": {},
   "outputs": [
    {
     "name": "stdout",
     "output_type": "stream",
     "text": [
      "Collecting psycopg2-binary\n",
      "  Obtaining dependency information for psycopg2-binary from https://files.pythonhosted.org/packages/25/1f/7ae31759142999a8d06b3e250c1346c4abcdcada8fa884376775dc1de686/psycopg2_binary-2.9.9-cp311-cp311-win_amd64.whl.metadata\n",
      "  Downloading psycopg2_binary-2.9.9-cp311-cp311-win_amd64.whl.metadata (4.6 kB)\n",
      "Downloading psycopg2_binary-2.9.9-cp311-cp311-win_amd64.whl (1.2 MB)\n",
      "   ---------------------------------------- 0.0/1.2 MB ? eta -:--:--\n",
      "   ---------------------------------------- 0.0/1.2 MB ? eta -:--:--\n",
      "   -- ------------------------------------- 0.1/1.2 MB 1.1 MB/s eta 0:00:02\n",
      "   -------------- ------------------------- 0.4/1.2 MB 4.4 MB/s eta 0:00:01\n",
      "   ---------------------------------------- 1.2/1.2 MB 8.2 MB/s eta 0:00:00\n",
      "Installing collected packages: psycopg2-binary\n",
      "Successfully installed psycopg2-binary-2.9.9\n"
     ]
    }
   ],
   "source": [
    "!pip install psycopg2-binary"
   ]
  },
  {
   "cell_type": "code",
   "execution_count": 5,
   "id": "38e2c3ba",
   "metadata": {},
   "outputs": [],
   "source": [
    "db_params = {\n",
    "    'host': '129.154.57.9',\n",
    "    'port': '5432',\n",
    "    'database': 'postgres',\n",
    "    'user': 'sesac',\n",
    "    'password': 'sesac1234'\n",
    "}"
   ]
  },
  {
   "cell_type": "code",
   "execution_count": 6,
   "id": "38780867",
   "metadata": {},
   "outputs": [],
   "source": [
    "import psycopg2"
   ]
  },
  {
   "cell_type": "code",
   "execution_count": 7,
   "id": "c8ca1496",
   "metadata": {},
   "outputs": [],
   "source": [
    "connection = psycopg2.connect(**db_params)\n",
    "cursor = connection.cursor()"
   ]
  },
  {
   "attachments": {},
   "cell_type": "markdown",
   "id": "509e4b90",
   "metadata": {},
   "source": [
    "# Create with SQL"
   ]
  },
  {
   "cell_type": "code",
   "execution_count": 8,
   "id": "171a66b8",
   "metadata": {},
   "outputs": [],
   "source": [
    "\n",
    "\n",
    "subject = \"SQL Create 테스트중입니다.\"\n",
    "contents = \"안녕하세요. 김민수입니다. SQL Create Test중입니다. 잘 입력되고 있겠죠?\"\n",
    "writer = \"김민수\"\n",
    "\n",
    "sql = \"\"\"\n",
    "    insert into POSTS (writer, subject, contents)\n",
    "    values (%s, %s, %s);\n",
    "\"\"\"\n",
    "params = (writer, subject, contents)\n",
    "\n",
    "cursor.execute(sql, params)\n",
    "connection.commit()"
   ]
  },
  {
   "cell_type": "code",
   "execution_count": 9,
   "id": "bfaf58c9",
   "metadata": {},
   "outputs": [],
   "source": [
    "connection.close()"
   ]
  },
  {
   "attachments": {},
   "cell_type": "markdown",
   "id": "788c928f",
   "metadata": {},
   "source": [
    "# Read with SQL"
   ]
  },
  {
   "cell_type": "code",
   "execution_count": 10,
   "id": "157ae876",
   "metadata": {},
   "outputs": [],
   "source": [
    "connection = psycopg2.connect(**db_params)\n",
    "cursor = connection.cursor()"
   ]
  },
  {
   "cell_type": "code",
   "execution_count": 24,
   "id": "82ee154e",
   "metadata": {},
   "outputs": [],
   "source": [
    "sql = \"\"\"\n",
    "    select * from POSTS\n",
    "    where post_id = %s ;  #원하는 조건의 데이터를 가져올수 있게끔 하는 코드\n",
    "\"\"\"\n",
    "post_id = '1'\n",
    "params = (post_id)\n",
    "\n",
    "cursor.execute(sql, params)\n",
    "\n"
   ]
  },
  {
   "cell_type": "code",
   "execution_count": 25,
   "id": "77a456b2",
   "metadata": {},
   "outputs": [],
   "source": [
    "rows = cursor.fetchall()"
   ]
  },
  {
   "cell_type": "code",
   "execution_count": 27,
   "id": "7f5839ad",
   "metadata": {},
   "outputs": [],
   "source": [
    "import pandas as pd\n",
    "df = pd.DataFrame(rows)"
   ]
  },
  {
   "cell_type": "code",
   "execution_count": 28,
   "id": "061d2a9d",
   "metadata": {},
   "outputs": [
    {
     "data": {
      "text/html": [
       "<div>\n",
       "<style scoped>\n",
       "    .dataframe tbody tr th:only-of-type {\n",
       "        vertical-align: middle;\n",
       "    }\n",
       "\n",
       "    .dataframe tbody tr th {\n",
       "        vertical-align: top;\n",
       "    }\n",
       "\n",
       "    .dataframe thead th {\n",
       "        text-align: right;\n",
       "    }\n",
       "</style>\n",
       "<table border=\"1\" class=\"dataframe\">\n",
       "  <thead>\n",
       "    <tr style=\"text-align: right;\">\n",
       "      <th></th>\n",
       "      <th>0</th>\n",
       "      <th>1</th>\n",
       "      <th>2</th>\n",
       "      <th>3</th>\n",
       "      <th>4</th>\n",
       "    </tr>\n",
       "  </thead>\n",
       "  <tbody>\n",
       "    <tr>\n",
       "      <th>0</th>\n",
       "      <td>1</td>\n",
       "      <td>SQL Create 테스트중입니다.</td>\n",
       "      <td>안녕하세요. 양수민입니다. SQL Create Test중입니다. 잘 입력되고 있나요?</td>\n",
       "      <td>양수민</td>\n",
       "      <td>240102225540</td>\n",
       "    </tr>\n",
       "  </tbody>\n",
       "</table>\n",
       "</div>"
      ],
      "text/plain": [
       "   0                    1                                                2  \\\n",
       "0  1  SQL Create 테스트중입니다.  안녕하세요. 양수민입니다. SQL Create Test중입니다. 잘 입력되고 있나요?   \n",
       "\n",
       "     3             4  \n",
       "0  양수민  240102225540  "
      ]
     },
     "execution_count": 28,
     "metadata": {},
     "output_type": "execute_result"
    }
   ],
   "source": [
    "df.head()"
   ]
  },
  {
   "cell_type": "code",
   "execution_count": 29,
   "id": "04a9c4c1",
   "metadata": {},
   "outputs": [],
   "source": [
    "connection.close()"
   ]
  },
  {
   "attachments": {},
   "cell_type": "markdown",
   "id": "d09d78cd",
   "metadata": {},
   "source": [
    "# Foreignkey Data 무결성 확인"
   ]
  },
  {
   "cell_type": "code",
   "execution_count": 30,
   "id": "2852dd38",
   "metadata": {},
   "outputs": [],
   "source": [
    "connection = psycopg2.connect(**db_params)\n",
    "cursor = connection.cursor()"
   ]
  },
  {
   "cell_type": "code",
   "execution_count": 31,
   "id": "c159a9f9",
   "metadata": {},
   "outputs": [
    {
     "ename": "UndefinedColumn",
     "evalue": "column \"content\" of relation \"posts\" does not exist\nLINE 2:     insert into POSTS (post_id, writer, content)\n                                                ^\n",
     "output_type": "error",
     "traceback": [
      "\u001b[0;31m---------------------------------------------------------------------------\u001b[0m",
      "\u001b[0;31mUndefinedColumn\u001b[0m                           Traceback (most recent call last)",
      "Cell \u001b[0;32mIn[31], line 11\u001b[0m\n\u001b[1;32m      5\u001b[0m sql \u001b[39m=\u001b[39m \u001b[39m\"\"\"\u001b[39m\n\u001b[1;32m      6\u001b[0m \u001b[39m    insert into POSTS (post_id, writer, content)\u001b[39m\n\u001b[1;32m      7\u001b[0m \u001b[39m    values (\u001b[39m\u001b[39m%s\u001b[39;00m\u001b[39m, \u001b[39m\u001b[39m%s\u001b[39;00m\u001b[39m, \u001b[39m\u001b[39m%s\u001b[39;00m\u001b[39m);\u001b[39m\n\u001b[1;32m      8\u001b[0m \u001b[39m\"\"\"\u001b[39m\n\u001b[1;32m      9\u001b[0m params \u001b[39m=\u001b[39m (subject, contents, writer)\n\u001b[0;32m---> 11\u001b[0m cursor\u001b[39m.\u001b[39;49mexecute(sql, params)\n\u001b[1;32m     12\u001b[0m connection\u001b[39m.\u001b[39mcommit()\n\u001b[1;32m     14\u001b[0m cursor\u001b[39m.\u001b[39mexecute()\n",
      "\u001b[0;31mUndefinedColumn\u001b[0m: column \"content\" of relation \"posts\" does not exist\nLINE 2:     insert into POSTS (post_id, writer, content)\n                                                ^\n"
     ]
    }
   ],
   "source": [
    "\n",
    "post_id = '100'\n",
    "contents = \"댓글 무결성 테스트중입니다. 확인부탁드립니다.\"\n",
    "writer = \"양수민\"\n",
    "\n",
    "sql = \"\"\"\n",
    "    insert into POSTS (post_id, writer, content)\n",
    "    values (%s, %s, %s);\n",
    "\"\"\"\n",
    "params = (subject, contents, writer)\n",
    "\n",
    "cursor.execute(sql, params)\n",
    "connection.commit()\n",
    "\n",
    "cursor.execute()"
   ]
  },
  {
   "cell_type": "code",
   "execution_count": 33,
   "id": "6691d50a",
   "metadata": {},
   "outputs": [],
   "source": [
    "connection.close()"
   ]
  },
  {
   "cell_type": "code",
   "execution_count": 34,
   "id": "215fce95",
   "metadata": {},
   "outputs": [],
   "source": [
    "connection = psycopg2.connect(**db_params)\n",
    "cursor = connection.cursor()"
   ]
  },
  {
   "cell_type": "code",
   "execution_count": 35,
   "id": "d00008d6",
   "metadata": {},
   "outputs": [
    {
     "ename": "UndefinedColumn",
     "evalue": "column \"content\" of relation \"posts\" does not exist\nLINE 2:     insert into POSTS (post_id, writer, content)\n                                                ^\n",
     "output_type": "error",
     "traceback": [
      "\u001b[0;31m---------------------------------------------------------------------------\u001b[0m",
      "\u001b[0;31mUndefinedColumn\u001b[0m                           Traceback (most recent call last)",
      "Cell \u001b[0;32mIn[35], line 11\u001b[0m\n\u001b[1;32m      5\u001b[0m sql \u001b[39m=\u001b[39m \u001b[39m\"\"\"\u001b[39m\n\u001b[1;32m      6\u001b[0m \u001b[39m    insert into POSTS (post_id, writer, content)\u001b[39m\n\u001b[1;32m      7\u001b[0m \u001b[39m    values (\u001b[39m\u001b[39m%s\u001b[39;00m\u001b[39m, \u001b[39m\u001b[39m%s\u001b[39;00m\u001b[39m, \u001b[39m\u001b[39m%s\u001b[39;00m\u001b[39m);\u001b[39m\n\u001b[1;32m      8\u001b[0m \u001b[39m\"\"\"\u001b[39m\n\u001b[1;32m      9\u001b[0m params \u001b[39m=\u001b[39m (subject, contents, writer)\n\u001b[0;32m---> 11\u001b[0m cursor\u001b[39m.\u001b[39;49mexecute(sql, params)\n\u001b[1;32m     12\u001b[0m connection\u001b[39m.\u001b[39mcommit()\n\u001b[1;32m     14\u001b[0m cursor\u001b[39m.\u001b[39mexecute()\n",
      "\u001b[0;31mUndefinedColumn\u001b[0m: column \"content\" of relation \"posts\" does not exist\nLINE 2:     insert into POSTS (post_id, writer, content)\n                                                ^\n"
     ]
    }
   ],
   "source": [
    "\n",
    "post_id = '1'\n",
    "contents = \"댓글 무결성 테스트중입니다. 확인부탁드립니다.\"\n",
    "writer = \"양수민\"\n",
    "\n",
    "sql = \"\"\"\n",
    "    insert into POSTS (post_id, writer, content)\n",
    "    values (%s, %s, %s);\n",
    "\"\"\"\n",
    "params = (subject, contents, writer)\n",
    "\n",
    "cursor.execute(sql, params)\n",
    "connection.commit()\n",
    "\n",
    "cursor.execute()"
   ]
  },
  {
   "cell_type": "code",
   "execution_count": null,
   "id": "22ee6724",
   "metadata": {},
   "outputs": [],
   "source": []
  }
 ],
 "metadata": {
  "kernelspec": {
   "display_name": "Python 3 (ipykernel)",
   "language": "python",
   "name": "python3"
  },
  "language_info": {
   "codemirror_mode": {
    "name": "ipython",
    "version": 3
   },
   "file_extension": ".py",
   "mimetype": "text/x-python",
   "name": "python",
   "nbconvert_exporter": "python",
   "pygments_lexer": "ipython3",
   "version": "3.11.5"
  }
 },
 "nbformat": 4,
 "nbformat_minor": 5
}
